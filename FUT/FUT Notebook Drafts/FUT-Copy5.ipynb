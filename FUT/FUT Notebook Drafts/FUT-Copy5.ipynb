{
 "cells": [
  {
   "cell_type": "markdown",
   "metadata": {},
   "source": [
    "## Import Libraries & Dataset"
   ]
  },
  {
   "cell_type": "code",
   "execution_count": null,
   "metadata": {},
   "outputs": [],
   "source": [
    "import pandas as pd\n",
    "import numpy as np\n",
    "import matplotlib\n",
    "import matplotlib.pyplot as plt\n",
    "import matplotlib.pylab as plt\n",
    "%matplotlib inline\n",
    "import seaborn as sns\n",
    "from sklearn.model_selection import train_test_split\n",
    "from scipy.stats import binom_test\n",
    "\n",
    "pd.set_option('display.max_rows',500)"
   ]
  },
  {
   "cell_type": "code",
   "execution_count": null,
   "metadata": {
    "scrolled": false
   },
   "outputs": [],
   "source": [
    "df = pd.read_csv(\"fut_ratings.csv\")\n",
    "df.head(15)"
   ]
  },
  {
   "cell_type": "code",
   "execution_count": null,
   "metadata": {},
   "outputs": [],
   "source": [
    "df.columns"
   ]
  },
  {
   "cell_type": "markdown",
   "metadata": {},
   "source": [
    "## Clean Data - 'Event'"
   ]
  },
  {
   "cell_type": "code",
   "execution_count": null,
   "metadata": {},
   "outputs": [],
   "source": [
    "df['Event'].unique()\n",
    "\n",
    "# Double check that 'Event' column is only numerical values 1-110 (AKA the # of events in data, which is 110)"
   ]
  },
  {
   "cell_type": "code",
   "execution_count": null,
   "metadata": {},
   "outputs": [],
   "source": [
    "df['trsh/door/brd/WO'].unique()\n",
    "\n",
    "# Check if 'trsh/door/brd/WO' column has any typos. Should only be 4 values.\n",
    "# This column should display \"trash, door, board, WO\". If values don't match up, change via Find and Replace\n",
    "# Change after dropping blank rows"
   ]
  },
  {
   "cell_type": "markdown",
   "metadata": {},
   "source": [
    "## Clean Data - Drop Blank Rows"
   ]
  },
  {
   "cell_type": "code",
   "execution_count": null,
   "metadata": {},
   "outputs": [],
   "source": [
    "df.dropna()"
   ]
  },
  {
   "cell_type": "code",
   "execution_count": null,
   "metadata": {},
   "outputs": [],
   "source": [
    "# newdf with blank rows dropped\n",
    "data = df.dropna()"
   ]
  },
  {
   "cell_type": "code",
   "execution_count": null,
   "metadata": {},
   "outputs": [],
   "source": [
    "data.reset_index(drop=True, inplace=True)"
   ]
  },
  {
   "cell_type": "markdown",
   "metadata": {},
   "source": [
    "## Clean Data - 'trsh/door/brd/WO'"
   ]
  },
  {
   "cell_type": "code",
   "execution_count": null,
   "metadata": {},
   "outputs": [],
   "source": [
    "data['trsh/door/brd/WO'].unique()"
   ]
  },
  {
   "cell_type": "code",
   "execution_count": null,
   "metadata": {},
   "outputs": [],
   "source": [
    "# Change to \"trash, door, board, WO\" by find and replace.\n",
    "\n",
    "data.replace('doors','door',inplace = True)\n",
    "data.replace('Board','board',inplace = True)\n",
    "data.replace('boards','board',inplace = True)\n",
    "data.replace('boad','board',inplace = True)\n",
    "data.replace('walkout','WO',inplace = True)\n",
    "data.replace('Walkout','WO',inplace = True)\n",
    "data.head(30)"
   ]
  },
  {
   "cell_type": "markdown",
   "metadata": {},
   "source": [
    "## Clean Data - 'Pack Types'"
   ]
  },
  {
   "cell_type": "code",
   "execution_count": null,
   "metadata": {},
   "outputs": [],
   "source": [
    "data['Pack Type'].unique()"
   ]
  },
  {
   "cell_type": "code",
   "execution_count": null,
   "metadata": {},
   "outputs": [],
   "source": [
    "# We see duplicate pack types from: misspellings, upper/lower case issues, spacing issues\n",
    "# So we change the duplicates/problem packs to one common name for each different pack types"
   ]
  },
  {
   "cell_type": "code",
   "execution_count": null,
   "metadata": {},
   "outputs": [],
   "source": [
    "data.replace('Small Prime Electrum Players Pack','small prime electrum players pack',inplace=True)\n",
    "data.replace('Small Prime Electurm Players Pack','small prime electrum players pack',inplace=True)\n",
    "data.replace('Jumbo Premium Gold Players Pack','jumbo premium gold players pack',inplace=True)\n",
    "data.replace('Small Prime Mixed Players Pack','small prime mixed players pack',inplace=True)\n",
    "data.replace('Small Prime Gold Players pack','small prime gold players pack',inplace=True)\n",
    "data.replace('Jumbo Premium Gold Players','jumbo premium gold players pack',inplace=True)\n",
    "data.replace('Jumbo premoium gold players','jumbo premium gold players pack',inplace=True)\n",
    "data.replace('Jumbo Rare Gold Players Pack','jumbo rare gold players pack',inplace=True)\n",
    "data.replace('Small Prime Gold Player Pack','small prime gold players pack',inplace=True)\n",
    "data.replace('Small Prime Gold Player Pack','small prime gold players pack',inplace=True)\n",
    "data.replace('Small Rare Gold Players Pack','small rare gold players pack',inplace=True)\n",
    "data.replace('Small Rare gold players pack','small rare gold players pack',inplace=True)\n",
    "data.replace('Small Rare Mixed Players Pack','small rare mixed players pack',inplace=True)\n",
    "data.replace('Small Rare mixed Players Pack','small rare mixed players pack',inplace=True)\n",
    "data.replace('Premium Electrum Players Pack','premium electrum players pack',inplace=True)\n",
    "data.replace('Gold Premium Players Pack','premium gold players pack',inplace=True)\n",
    "data.replace('Jumbo Premium Gold 26 Pack','jumbo premium gold 26 pack',inplace=True)\n",
    "data.replace('Jumbo Premium Gold Pack','jumbo premium gold pack',inplace=True)\n",
    "data.replace('Jumbo Rare Player Pack','jumbo rare players pack',inplace=True)\n",
    "data.replace('Jumbo Rare Players Pack','jumbo rare players pack',inplace=True)\n",
    "data.replace('One Rare Player Pack','one rare player pack',inplace=True)\n",
    "data.replace('PL Premium Players Pack','pl premium players pack',inplace=True)\n",
    "data.replace('Premium Gold Jumbo Pack','jumbo premium gold pack',inplace=True)\n",
    "data.replace('Premium Gold Players Pack','premium gold players pack',inplace=True)\n",
    "data.replace('Premium Jumbo Gold 26 Pack','jumbo premium gold 26 pack',inplace=True)\n",
    "data.replace('Premium Jumbo Gold Pack','jumbo premium gold pack',inplace=True)\n",
    "data.replace('Premium Mixed Players Pack','premium mixed players pack',inplace=True)\n",
    "data.replace('Prime Electrum Players Pack','prime electrum players pack',inplace=True)\n",
    "data.replace('Prime electrum players pack','prime electrum players pack',inplace=True)\n",
    "data.replace('Prime Gold Players Pack','prime gold players pack',inplace=True)\n",
    "data.replace('Prime Mixed Players Pack','prime mixed players pack',inplace=True)\n",
    "data.replace('Prime Silver Players Pack','prime silver players pack',inplace=True)\n",
    "data.replace('Rare Electrum Players Pack','rare electrum players pack',inplace=True)\n",
    "data.replace('Rare Mixed Players Pack','rare mixed players pack',inplace=True)\n",
    "data.replace('Rare mixed players pack','rare mixed players pack',inplace=True)\n",
    "data.replace('Rare Mixed Players Pack Pack','rare mixed players pack',inplace=True)\n",
    "data.replace('Small Gold Players Pack','small gold players pack',inplace=True)\n",
    "data.replace('Small Gold Players pack','small gold players pack',inplace=True)\n",
    "data.replace('Two Rare Gold Player Pack','two rare gold players pack',inplace=True)\n",
    "data.replace('Two Rare Gold Players Pack','two rare gold players pack',inplace=True)\n",
    "data.replace('Two UCL Common Player Pack','two ucl common players pack',inplace=True)\n",
    "data.replace('UCL Rare Player Pack','ucl rare player pack',inplace=True)\n",
    "data.replace('UCL Three Player Pack','ucl three player pack',inplace=True)\n",
    "data.replace('Electrum Players Pack','electrum players pack',inplace=True)\n",
    "data.replace('Mixed Players Pack','mixed players pack',inplace=True)\n",
    "data.replace('Rare Players Pack','rare players pack',inplace=True)\n",
    "data.replace('Jumbo Gold Pack','jumbo gold pack',inplace=True)\n",
    "data.replace('Rare Gold Pack','rare gold pack',inplace=True)\n",
    "data.replace('Rare Mega Pack','rare mega pack',inplace=True)\n",
    "data.replace('Rare Mega Pack ','rare mega pack',inplace=True)\n",
    "data.replace('Ultimate Pack','ultimate pack',inplace=True)\n",
    "data.replace('Two player pack','two players pack',inplace=True)\n",
    "data.replace('Two Player Pack','two players pack',inplace=True)\n",
    "data.replace('Two Players Pack','two players pack',inplace=True)\n",
    "data.replace('Gold 13 Pack','gold 13 pack',inplace=True)\n",
    "data.replace('Gold 26 Pack','gold 26 pack',inplace=True)\n",
    "data.replace('Gold Players Pack','gold players pack',inplace=True)\n",
    "data.replace('Premium Gold Pack','premium gold pack',inplace=True)\n",
    "data.replace('Mega Pack','mega pack',inplace=True)\n",
    "data.replace('Gold Pack','gold pack',inplace=True)\n",
    "\n",
    "data.head(300)"
   ]
  },
  {
   "cell_type": "code",
   "execution_count": null,
   "metadata": {
    "scrolled": true
   },
   "outputs": [],
   "source": [
    "data['Pack Type'].unique()"
   ]
  },
  {
   "cell_type": "code",
   "execution_count": null,
   "metadata": {},
   "outputs": [],
   "source": [
    "data.drop(columns=['Event','trsh/door/brd/WO','Date'],inplace=True)\n",
    "\n",
    "# Drop columns, left code for find and replace as reference for later anaylsis. "
   ]
  },
  {
   "cell_type": "code",
   "execution_count": null,
   "metadata": {},
   "outputs": [],
   "source": [
    "data.info()"
   ]
  },
  {
   "cell_type": "code",
   "execution_count": null,
   "metadata": {
    "scrolled": true
   },
   "outputs": [],
   "source": [
    "grouped = data.groupby(['Pack Type'])\n",
    "grouped.head()"
   ]
  },
  {
   "cell_type": "code",
   "execution_count": null,
   "metadata": {
    "scrolled": true
   },
   "outputs": [],
   "source": [
    "for pack, group in grouped:\n",
    "    print('Pack Type')\n",
    "    print(group)\n",
    "    print()"
   ]
  },
  {
   "cell_type": "code",
   "execution_count": null,
   "metadata": {
    "scrolled": true
   },
   "outputs": [],
   "source": [
    "print(grouped.groups)\n",
    "\n",
    "# Verify values + index are the same using eye test"
   ]
  },
  {
   "cell_type": "code",
   "execution_count": null,
   "metadata": {},
   "outputs": [],
   "source": [
    "print(len(grouped.groups))"
   ]
  },
  {
   "cell_type": "code",
   "execution_count": null,
   "metadata": {},
   "outputs": [],
   "source": [
    "# need avg top rating by probability"
   ]
  },
  {
   "cell_type": "code",
   "execution_count": null,
   "metadata": {
    "scrolled": true
   },
   "outputs": [],
   "source": [
    "grouped.mean()"
   ]
  },
  {
   "cell_type": "code",
   "execution_count": null,
   "metadata": {},
   "outputs": [],
   "source": [
    "print(data['Pack Type'].nunique())"
   ]
  },
  {
   "cell_type": "code",
   "execution_count": null,
   "metadata": {
    "scrolled": true
   },
   "outputs": [],
   "source": [
    "data['Pack Type'].value_counts()"
   ]
  },
  {
   "cell_type": "code",
   "execution_count": null,
   "metadata": {
    "scrolled": true
   },
   "outputs": [],
   "source": [
    "grouped.describe()"
   ]
  },
  {
   "cell_type": "code",
   "execution_count": null,
   "metadata": {},
   "outputs": [],
   "source": [
    "# Drop pack if under 10 entries\n",
    "# small electrum players pack, gold 13 pack, gold 26 pack, jumbo premium gold 26 pack, jumbo rare gold players pack,\n",
    "# one rare player pack, pl premium players pack, prime silver players pack, small prime gold players pack\n",
    "# small prime mixed players pack, two players pack, two ucl common players pack, ucl three player pack, ultimate pack"
   ]
  },
  {
   "cell_type": "code",
   "execution_count": null,
   "metadata": {},
   "outputs": [],
   "source": [
    "# data.loc[76,'Top Rating']\n",
    "\n",
    "#this proves there is a top rating value for small electrum players pack, but nothing shows up\""
   ]
  },
  {
   "cell_type": "markdown",
   "metadata": {},
   "source": [
    "### Finding True Pack Probabilities"
   ]
  },
  {
   "cell_type": "markdown",
   "metadata": {},
   "source": [
    "## Packs to investigate:\n",
    "##### 1: gold pack\n",
    "##### 2: premium gold pack\n",
    "##### 3: premium gold players pack\n",
    "##### 4: jumbo premium gold pack\n",
    "##### 5: prime gold players pack\n",
    "##### 6: rare gold pack\n",
    "##### 7: mega pack\n",
    "##### 8: rare players pack\n",
    "##### 9: premium electrum players pack"
   ]
  },
  {
   "cell_type": "markdown",
   "metadata": {},
   "source": [
    "## 1: Gold Pack\n",
    "\n",
    "#### Odds:\n",
    "#### Gold 75+ : 100.00%\n",
    "#### Gold 82+ : 7.70%\n",
    "#### Gold 84+ : 3.40%"
   ]
  },
  {
   "cell_type": "code",
   "execution_count": null,
   "metadata": {
    "scrolled": true
   },
   "outputs": [],
   "source": [
    "gold_pack_75 = data.loc[((data['Pack Type'] == 'gold pack') & (data['Top Rating'] >= 75))]"
   ]
  },
  {
   "cell_type": "code",
   "execution_count": null,
   "metadata": {},
   "outputs": [],
   "source": [
    "gold_pack_82 = data.loc[((data['Pack Type'] == 'gold pack') & (data['Top Rating'] >= 82))]"
   ]
  },
  {
   "cell_type": "code",
   "execution_count": null,
   "metadata": {},
   "outputs": [],
   "source": [
    "gold_pack_84 = data.loc[((data['Pack Type'] == 'gold pack') & (data['Top Rating'] >= 84))]"
   ]
  },
  {
   "cell_type": "code",
   "execution_count": null,
   "metadata": {},
   "outputs": [],
   "source": [
    "print(f'75+ Count : {len(gold_pack_75)}')\n",
    "print(f'82+ Count : {len(gold_pack_82)}')\n",
    "print(f'84+ Count : {len(gold_pack_84)}')"
   ]
  },
  {
   "cell_type": "code",
   "execution_count": null,
   "metadata": {},
   "outputs": [],
   "source": [
    "gold_pack_75_num = len(data[(data['Pack Type'] == 'gold pack') & (data['Top Rating'] >= 75)])\n",
    "gold_pack_82_num = len(data[(data['Pack Type'] == 'gold pack') & (data['Top Rating'] >= 82)])\n",
    "gold_pack_84_num = len(data[(data['Pack Type'] == 'gold pack') & (data['Top Rating'] >= 84)])\n",
    "\n",
    "print(gold_pack_75_num)\n",
    "print(gold_pack_82_num)\n",
    "print(gold_pack_84_num)"
   ]
  },
  {
   "cell_type": "code",
   "execution_count": null,
   "metadata": {},
   "outputs": [],
   "source": [
    "gold_pack_denom = len(data[(data['Pack Type'] == 'gold pack')])\n",
    "gold_pack_denom"
   ]
  },
  {
   "cell_type": "code",
   "execution_count": null,
   "metadata": {},
   "outputs": [],
   "source": [
    "gold_pack_75_percent = gold_pack_75_num/gold_pack_denom\n",
    "gold_pack_82_percent = gold_pack_82_num/gold_pack_denom\n",
    "gold_pack_84_percent = gold_pack_84_num/gold_pack_denom\n",
    "\n",
    "\n",
    "print(gold_pack_75_percent)\n",
    "print(gold_pack_82_percent)\n",
    "print(gold_pack_84_percent)"
   ]
  },
  {
   "cell_type": "code",
   "execution_count": null,
   "metadata": {},
   "outputs": [],
   "source": [
    "gold_pack_82\n",
    "\n",
    "#weird that I never got an 83"
   ]
  },
  {
   "cell_type": "code",
   "execution_count": null,
   "metadata": {},
   "outputs": [],
   "source": [
    "sns.boxplot(data[(data['Pack Type'] == 'gold pack')]['Top Rating']);"
   ]
  },
  {
   "cell_type": "markdown",
   "metadata": {},
   "source": [
    "## 2: Premium Gold Pack\n",
    "\n",
    "#### Odds:\n",
    "#### Gold 75+ : 100.00%\n",
    "#### Gold 82+ : 19.00%\n",
    "#### Gold 84+ : 4.70%"
   ]
  },
  {
   "cell_type": "code",
   "execution_count": null,
   "metadata": {},
   "outputs": [],
   "source": [
    "premium_gold_pack_75 = data.loc[((data['Pack Type'] == 'premium gold pack') & (data['Top Rating'] >= 75))]\n",
    "premium_gold_pack_82 = data.loc[((data['Pack Type'] == 'premium gold pack') & (data['Top Rating'] >= 82))]\n",
    "premium_gold_pack_84 = data.loc[((data['Pack Type'] == 'premium gold pack') & (data['Top Rating'] >= 84))]"
   ]
  },
  {
   "cell_type": "code",
   "execution_count": null,
   "metadata": {},
   "outputs": [],
   "source": [
    "print(f'75+ Count : {len(premium_gold_pack_75)}')\n",
    "print(f'82+ Count : {len(premium_gold_pack_82)}')\n",
    "print(f'84+ Count : {len(premium_gold_pack_84)}')"
   ]
  },
  {
   "cell_type": "code",
   "execution_count": null,
   "metadata": {},
   "outputs": [],
   "source": [
    "premium_gold_pack_75_num = len(data[(data['Pack Type'] == 'premium gold pack') & (data['Top Rating'] >= 75)])\n",
    "premium_gold_pack_82_num = len(data[(data['Pack Type'] == 'premium gold pack') & (data['Top Rating'] >= 82)])\n",
    "premium_gold_pack_84_num = len(data[(data['Pack Type'] == 'premium gold pack') & (data['Top Rating'] >= 84)])\n",
    "\n",
    "print(premium_gold_pack_75_num)\n",
    "print(premium_gold_pack_82_num)\n",
    "print(premium_gold_pack_84_num)\n",
    "\n",
    "#data[(data['Pack Type'] == 'premium gold pack') & (data['Top Rating'] >= 82)]"
   ]
  },
  {
   "cell_type": "code",
   "execution_count": null,
   "metadata": {},
   "outputs": [],
   "source": [
    "premium_gold_pack_denom = len(data[(data['Pack Type'] == 'premium gold pack')])\n",
    "premium_gold_pack_denom"
   ]
  },
  {
   "cell_type": "code",
   "execution_count": null,
   "metadata": {},
   "outputs": [],
   "source": [
    "premium_gold_pack_75_percent = premium_gold_pack_75_num/premium_gold_pack_denom\n",
    "premium_gold_pack_82_percent = premium_gold_pack_82_num/premium_gold_pack_denom\n",
    "premium_gold_pack_84_percent = premium_gold_pack_84_num/premium_gold_pack_denom\n",
    "\n",
    "\n",
    "print(premium_gold_pack_75_percent)\n",
    "print(premium_gold_pack_82_percent)\n",
    "print(premium_gold_pack_84_percent)"
   ]
  },
  {
   "cell_type": "code",
   "execution_count": null,
   "metadata": {},
   "outputs": [],
   "source": [
    "sns.boxplot(data[(data['Pack Type'] == 'premium gold pack')]['Top Rating']);"
   ]
  },
  {
   "cell_type": "markdown",
   "metadata": {},
   "source": [
    "## 3: Premium Gold Players Pack\n",
    "\n",
    "#### Odds:\n",
    "#### Gold 75+ : 100.00%\n",
    "#### Gold 82+ : 59.00%\n",
    "#### Gold 86+ : 3.60%"
   ]
  },
  {
   "cell_type": "code",
   "execution_count": null,
   "metadata": {},
   "outputs": [],
   "source": [
    "premium_gold_players_pack_75 = data.loc[((data['Pack Type'] == 'premium gold players pack') & (data['Top Rating'] >= 75))]\n",
    "premium_gold_players_pack_82 = data.loc[((data['Pack Type'] == 'premium gold players pack') & (data['Top Rating'] >= 82))]\n",
    "premium_gold_players_pack_86 = data.loc[((data['Pack Type'] == 'premium gold players pack') & (data['Top Rating'] >= 86))]"
   ]
  },
  {
   "cell_type": "code",
   "execution_count": null,
   "metadata": {},
   "outputs": [],
   "source": [
    "print(f'75+ Count : {len(premium_gold_players_pack_75)}')\n",
    "print(f'82+ Count : {len(premium_gold_players_pack_82)}')\n",
    "print(f'86+ Count : {len(premium_gold_players_pack_86)}')"
   ]
  },
  {
   "cell_type": "code",
   "execution_count": null,
   "metadata": {},
   "outputs": [],
   "source": [
    "premium_gold_players_pack_75_num = len(data[(data['Pack Type'] == 'premium gold players pack') & (data['Top Rating'] >= 75)])\n",
    "premium_gold_players_pack_82_num = len(data[(data['Pack Type'] == 'premium gold players pack') & (data['Top Rating'] >= 82)])\n",
    "premium_gold_players_pack_86_num = len(data[(data['Pack Type'] == 'premium gold players pack') & (data['Top Rating'] >= 86)])\n",
    "\n",
    "print(premium_gold_players_pack_75_num)\n",
    "print(premium_gold_players_pack_82_num)\n",
    "print(premium_gold_players_pack_86_num)"
   ]
  },
  {
   "cell_type": "code",
   "execution_count": null,
   "metadata": {},
   "outputs": [],
   "source": [
    "premium_gold_players_pack_denom = len(data[(data['Pack Type'] == 'premium gold players pack')])\n",
    "premium_gold_players_pack_denom"
   ]
  },
  {
   "cell_type": "code",
   "execution_count": null,
   "metadata": {},
   "outputs": [],
   "source": [
    "premium_gold_players_pack_75_percent = premium_gold_players_pack_75_num/premium_gold_players_pack_denom\n",
    "premium_gold_players_pack_82_percent = premium_gold_players_pack_82_num/premium_gold_players_pack_denom\n",
    "premium_gold_players_pack_86_percent = premium_gold_players_pack_86_num/premium_gold_players_pack_denom\n",
    "\n",
    "\n",
    "print(premium_gold_players_pack_75_percent)\n",
    "print(premium_gold_players_pack_82_percent)\n",
    "print(premium_gold_players_pack_86_percent)"
   ]
  },
  {
   "cell_type": "code",
   "execution_count": null,
   "metadata": {},
   "outputs": [],
   "source": [
    "sns.boxplot(data[(data['Pack Type'] == 'premium gold players pack')]['Top Rating']);"
   ]
  },
  {
   "cell_type": "markdown",
   "metadata": {},
   "source": [
    "## 4: Jumbo Premium Gold Pack\n",
    "\n",
    "#### Odds:\n",
    "#### Gold 75+ : 100.00%\n",
    "#### Gold 82+ : 42.00%\n",
    "#### Gold 85+ : 4.60%"
   ]
  },
  {
   "cell_type": "code",
   "execution_count": null,
   "metadata": {},
   "outputs": [],
   "source": [
    "jumbo_premium_gold_pack_75 = data.loc[((data['Pack Type'] == 'jumbo premium gold pack') & (data['Top Rating'] >= 75))]\n",
    "jumbo_premium_gold_pack_82 = data.loc[((data['Pack Type'] == 'jumbo premium gold pack') & (data['Top Rating'] >= 82))]\n",
    "jumbo_premium_gold_pack_85 = data.loc[((data['Pack Type'] == 'jumbo premium gold pack') & (data['Top Rating'] >= 85))]"
   ]
  },
  {
   "cell_type": "code",
   "execution_count": null,
   "metadata": {},
   "outputs": [],
   "source": [
    "print(f'75+ Count : {len(jumbo_premium_gold_pack_75)}')\n",
    "print(f'82+ Count : {len(jumbo_premium_gold_pack_82)}')\n",
    "print(f'85+ Count : {len(jumbo_premium_gold_pack_85)}')"
   ]
  },
  {
   "cell_type": "code",
   "execution_count": null,
   "metadata": {},
   "outputs": [],
   "source": [
    "jumbo_premium_gold_pack_75_num = len(data[(data['Pack Type'] == 'jumbo premium gold pack') & (data['Top Rating'] >= 75)])\n",
    "jumbo_premium_gold_pack_82_num = len(data[(data['Pack Type'] == 'jumbo premium gold pack') & (data['Top Rating'] >= 82)])\n",
    "jumbo_premium_gold_pack_85_num = len(data[(data['Pack Type'] == 'jumbo premium gold pack') & (data['Top Rating'] >= 85)])\n",
    "\n",
    "print(jumbo_premium_gold_pack_75_num)\n",
    "print(jumbo_premium_gold_pack_82_num)\n",
    "print(jumbo_premium_gold_pack_85_num)"
   ]
  },
  {
   "cell_type": "code",
   "execution_count": null,
   "metadata": {},
   "outputs": [],
   "source": [
    "jumbo_premium_gold_pack_denom = len(data[(data['Pack Type'] == 'jumbo premium gold pack')])\n",
    "jumbo_premium_gold_pack_denom"
   ]
  },
  {
   "cell_type": "code",
   "execution_count": null,
   "metadata": {},
   "outputs": [],
   "source": [
    "jumbo_premium_gold_pack_75_percent = jumbo_premium_gold_pack_75_num/jumbo_premium_gold_pack_denom\n",
    "jumbo_premium_gold_pack_82_percent = jumbo_premium_gold_pack_82_num/jumbo_premium_gold_pack_denom\n",
    "jumbo_premium_gold_pack_85_percent = jumbo_premium_gold_pack_85_num/jumbo_premium_gold_pack_denom\n",
    "\n",
    "\n",
    "print(jumbo_premium_gold_pack_75_percent)\n",
    "print(jumbo_premium_gold_pack_82_percent)\n",
    "print(jumbo_premium_gold_pack_85_percent)"
   ]
  },
  {
   "cell_type": "code",
   "execution_count": null,
   "metadata": {},
   "outputs": [],
   "source": [
    "sns.boxplot(data[(data['Pack Type'] == 'jumbo premium gold pack')]['Top Rating']);"
   ]
  },
  {
   "cell_type": "markdown",
   "metadata": {},
   "source": [
    "## 5: Prime Gold Players Pack\n",
    "\n",
    "#### Odds:\n",
    "#### Gold 75+ : 100.00%\n",
    "#### Gold 82+ : 80.00%\n",
    "#### Gold 87+ : 4.20%"
   ]
  },
  {
   "cell_type": "code",
   "execution_count": null,
   "metadata": {},
   "outputs": [],
   "source": [
    "prime_gold_players_pack_75 = data.loc[((data['Pack Type'] == 'prime gold players pack') & (data['Top Rating'] >= 75))]\n",
    "prime_gold_players_pack_82 = data.loc[((data['Pack Type'] == 'prime gold players pack') & (data['Top Rating'] >= 82))]\n",
    "prime_gold_players_pack_87 = data.loc[((data['Pack Type'] == 'prime gold players pack') & (data['Top Rating'] >= 87))]"
   ]
  },
  {
   "cell_type": "code",
   "execution_count": null,
   "metadata": {},
   "outputs": [],
   "source": [
    "print(f'75+ Count : {len(prime_gold_players_pack_75)}')\n",
    "print(f'82+ Count : {len(prime_gold_players_pack_82)}')\n",
    "print(f'87+ Count : {len(prime_gold_players_pack_87)}')"
   ]
  },
  {
   "cell_type": "code",
   "execution_count": null,
   "metadata": {},
   "outputs": [],
   "source": [
    "prime_gold_players_pack_75_num = len(data[(data['Pack Type'] == 'prime gold players pack') & (data['Top Rating'] >= 75)])\n",
    "prime_gold_players_pack_82_num = len(data[(data['Pack Type'] == 'prime gold players pack') & (data['Top Rating'] >= 82)])\n",
    "prime_gold_players_pack_87_num = len(data[(data['Pack Type'] == 'prime gold players pack') & (data['Top Rating'] >= 87)])\n",
    "\n",
    "print(prime_gold_players_pack_75_num)\n",
    "print(prime_gold_players_pack_82_num)\n",
    "print(prime_gold_players_pack_87_num)"
   ]
  },
  {
   "cell_type": "code",
   "execution_count": null,
   "metadata": {},
   "outputs": [],
   "source": [
    "prime_gold_players_pack_denom = len(data[(data['Pack Type'] == 'prime gold players pack')])\n",
    "prime_gold_players_pack_denom"
   ]
  },
  {
   "cell_type": "code",
   "execution_count": null,
   "metadata": {},
   "outputs": [],
   "source": [
    "prime_gold_players_pack_75_percent = prime_gold_players_pack_75_num/prime_gold_players_pack_denom\n",
    "prime_gold_players_pack_82_percent = prime_gold_players_pack_82_num/prime_gold_players_pack_denom\n",
    "prime_gold_players_pack_84_percent = prime_gold_players_pack_87_num/prime_gold_players_pack_denom\n",
    "\n",
    "\n",
    "print(prime_gold_players_pack_75_percent)\n",
    "print(prime_gold_players_pack_82_percent)\n",
    "print(prime_gold_players_pack_84_percent)"
   ]
  },
  {
   "cell_type": "code",
   "execution_count": null,
   "metadata": {},
   "outputs": [],
   "source": [
    "sns.boxplot(data[(data['Pack Type'] == 'prime gold players pack')]['Top Rating']);"
   ]
  },
  {
   "cell_type": "markdown",
   "metadata": {},
   "source": [
    "## 6: Rare Gold Pack\n",
    "\n",
    "#### Odds:\n",
    "#### Gold 75+ : 100.00%\n",
    "#### Gold 82+ : 55.00%\n",
    "#### Gold 86+ : 4.30%"
   ]
  },
  {
   "cell_type": "code",
   "execution_count": null,
   "metadata": {},
   "outputs": [],
   "source": [
    "rare_gold_pack_75 = data.loc[((data['Pack Type'] == 'rare gold pack') & (data['Top Rating'] >= 75))]\n",
    "rare_gold_pack_82 = data.loc[((data['Pack Type'] == 'rare gold pack') & (data['Top Rating'] >= 82))]\n",
    "rare_gold_pack_86 = data.loc[((data['Pack Type'] == 'rare gold pack') & (data['Top Rating'] >= 86))]"
   ]
  },
  {
   "cell_type": "code",
   "execution_count": null,
   "metadata": {},
   "outputs": [],
   "source": [
    "print(f'75+ Count : {len(rare_gold_pack_75)}')\n",
    "print(f'82+ Count : {len(rare_gold_pack_82)}')\n",
    "print(f'86+ Count : {len(rare_gold_pack_86)}')"
   ]
  },
  {
   "cell_type": "code",
   "execution_count": null,
   "metadata": {},
   "outputs": [],
   "source": [
    "rare_gold_pack_75_num = len(data[(data['Pack Type'] == 'rare gold pack') & (data['Top Rating'] >= 75)])\n",
    "rare_gold_pack_82_num = len(data[(data['Pack Type'] == 'rare gold pack') & (data['Top Rating'] >= 82)])\n",
    "rare_gold_pack_86_num = len(data[(data['Pack Type'] == 'rare gold pack') & (data['Top Rating'] >= 86)])\n",
    "\n",
    "print(rare_gold_pack_75_num)\n",
    "print(rare_gold_pack_82_num)\n",
    "print(rare_gold_pack_86_num)"
   ]
  },
  {
   "cell_type": "code",
   "execution_count": null,
   "metadata": {},
   "outputs": [],
   "source": [
    "rare_gold_pack_denom = len(data[(data['Pack Type'] == 'rare gold pack')])\n",
    "rare_gold_pack_denom"
   ]
  },
  {
   "cell_type": "code",
   "execution_count": null,
   "metadata": {},
   "outputs": [],
   "source": [
    "rare_gold_pack_75_percent = rare_gold_pack_75_num/rare_gold_pack_denom\n",
    "rare_gold_pack_82_percent = rare_gold_pack_82_num/rare_gold_pack_denom\n",
    "rare_gold_pack_86_percent = rare_gold_pack_86_num/rare_gold_pack_denom\n",
    "\n",
    "\n",
    "print(rare_gold_pack_75_percent)\n",
    "print(rare_gold_pack_82_percent)\n",
    "print(rare_gold_pack_86_percent)"
   ]
  },
  {
   "cell_type": "code",
   "execution_count": null,
   "metadata": {},
   "outputs": [],
   "source": [
    "sns.boxplot(data[(data['Pack Type'] == 'rare gold pack')]['Top Rating']);"
   ]
  },
  {
   "cell_type": "markdown",
   "metadata": {},
   "source": [
    "## 7: Mega Pack\n",
    "\n",
    "#### Odds:\n",
    "#### Gold 75+ : 100.00%\n",
    "#### Gold 82+ : 79.00%\n",
    "#### Gold 87+ : 4.50%"
   ]
  },
  {
   "cell_type": "code",
   "execution_count": null,
   "metadata": {},
   "outputs": [],
   "source": [
    "mega_pack_75 = data.loc[((data['Pack Type'] == 'mega pack') & (data['Top Rating'] >= 75))]\n",
    "mega_pack_82 = data.loc[((data['Pack Type'] == 'mega pack') & (data['Top Rating'] >= 82))]\n",
    "mega_pack_87 = data.loc[((data['Pack Type'] == 'mega pack') & (data['Top Rating'] >= 87))]"
   ]
  },
  {
   "cell_type": "code",
   "execution_count": null,
   "metadata": {},
   "outputs": [],
   "source": [
    "print(f'75+ Count : {len(mega_pack_75)}')\n",
    "print(f'82+ Count : {len(mega_pack_82)}')\n",
    "print(f'87+ Count : {len(mega_pack_87)}')"
   ]
  },
  {
   "cell_type": "code",
   "execution_count": null,
   "metadata": {},
   "outputs": [],
   "source": [
    "mega_pack_75_num = len(data[(data['Pack Type'] == 'mega pack') & (data['Top Rating'] >= 75)])\n",
    "mega_pack_82_num = len(data[(data['Pack Type'] == 'mega pack') & (data['Top Rating'] >= 82)])\n",
    "mega_pack_87_num = len(data[(data['Pack Type'] == 'mega pack') & (data['Top Rating'] >= 87)])\n",
    "\n",
    "print(mega_pack_75_num)\n",
    "print(mega_pack_82_num)\n",
    "print(mega_pack_87_num)"
   ]
  },
  {
   "cell_type": "code",
   "execution_count": null,
   "metadata": {},
   "outputs": [],
   "source": [
    "mega_pack_denom = len(data[(data['Pack Type'] == 'mega pack')])\n",
    "mega_pack_denom"
   ]
  },
  {
   "cell_type": "code",
   "execution_count": null,
   "metadata": {},
   "outputs": [],
   "source": [
    "mega_pack_75_percent = mega_pack_75_num/mega_pack_denom\n",
    "mega_pack_82_percent = mega_pack_82_num/mega_pack_denom\n",
    "mega_pack_87_percent = mega_pack_87_num/mega_pack_denom\n",
    "\n",
    "\n",
    "print(mega_pack_75_percent)\n",
    "print(mega_pack_82_percent)\n",
    "print(mega_pack_87_percent)"
   ]
  },
  {
   "cell_type": "code",
   "execution_count": null,
   "metadata": {},
   "outputs": [],
   "source": [
    "sns.boxplot(data[(data['Pack Type'] == 'mega pack')]['Top Rating']);"
   ]
  },
  {
   "cell_type": "markdown",
   "metadata": {},
   "source": [
    "## 8: Rare Players Pack\n",
    "\n",
    "#### Odds:\n",
    "#### Gold 75+ : 100.00%\n",
    "#### Gold 82+ : 95.00%\n",
    "#### Gold 88+ : 5.00%"
   ]
  },
  {
   "cell_type": "code",
   "execution_count": null,
   "metadata": {},
   "outputs": [],
   "source": [
    "rare_players_pack_75 = data.loc[((data['Pack Type'] == 'rare players pack') & (data['Top Rating'] >= 75))]\n",
    "rare_players_pack_82 = data.loc[((data['Pack Type'] == 'rare players pack') & (data['Top Rating'] >= 82))]\n",
    "rare_players_pack_88 = data.loc[((data['Pack Type'] == 'rare players pack') & (data['Top Rating'] >= 88))]"
   ]
  },
  {
   "cell_type": "code",
   "execution_count": null,
   "metadata": {},
   "outputs": [],
   "source": [
    "print(f'75+ Count : {len(rare_players_pack_75)}')\n",
    "print(f'82+ Count : {len(rare_players_pack_82)}')\n",
    "print(f'88+ Count : {len(rare_players_pack_88)}')"
   ]
  },
  {
   "cell_type": "code",
   "execution_count": null,
   "metadata": {},
   "outputs": [],
   "source": [
    "rare_players_pack_75_num = len(data[(data['Pack Type'] == 'rare players pack') & (data['Top Rating'] >= 75)])\n",
    "rare_players_pack_82_num = len(data[(data['Pack Type'] == 'rare players pack') & (data['Top Rating'] >= 82)])\n",
    "rare_players_pack_88_num = len(data[(data['Pack Type'] == 'rare players pack') & (data['Top Rating'] >= 88)])\n",
    "\n",
    "print(rare_players_pack_75_num)\n",
    "print(rare_players_pack_82_num)\n",
    "print(rare_players_pack_88_num)"
   ]
  },
  {
   "cell_type": "code",
   "execution_count": null,
   "metadata": {},
   "outputs": [],
   "source": [
    "rare_players_pack_denom = len(data[(data['Pack Type'] == 'rare players pack')])\n",
    "rare_players_pack_denom"
   ]
  },
  {
   "cell_type": "code",
   "execution_count": null,
   "metadata": {},
   "outputs": [],
   "source": [
    "rare_players_pack_75_percent = rare_players_pack_75_num/rare_players_pack_denom\n",
    "rare_players_pack_82_percent = rare_players_pack_82_num/rare_players_pack_denom\n",
    "rare_players_pack_88_percent = rare_players_pack_88_num/rare_players_pack_denom\n",
    "\n",
    "\n",
    "print(rare_players_pack_75_percent)\n",
    "print(rare_players_pack_82_percent)\n",
    "print(rare_players_pack_88_percent)"
   ]
  },
  {
   "cell_type": "code",
   "execution_count": null,
   "metadata": {},
   "outputs": [],
   "source": [
    "sns.boxplot(data[(data['Pack Type'] == 'rare players pack')]['Top Rating']);"
   ]
  },
  {
   "cell_type": "markdown",
   "metadata": {},
   "source": [
    "## 9: Premium Electrum Players Pack\n",
    "\n",
    "#### Odds:\n",
    "#### Gold 75+ : 100.00%\n",
    "#### Gold 82+ : 41.00%\n",
    "#### Gold 85+ : 4.30%"
   ]
  },
  {
   "cell_type": "code",
   "execution_count": null,
   "metadata": {},
   "outputs": [],
   "source": [
    "premium_electrum_players_pack_75 = data.loc[((data['Pack Type'] == 'premium electrum players pack') & (data['Top Rating'] >= 75))]\n",
    "premium_electrum_players_pack_82 = data.loc[((data['Pack Type'] == 'premium electrum players pack') & (data['Top Rating'] >= 82))]\n",
    "premium_electrum_players_pack_85 = data.loc[((data['Pack Type'] == 'premium electrum players pack') & (data['Top Rating'] >= 85))]"
   ]
  },
  {
   "cell_type": "code",
   "execution_count": null,
   "metadata": {},
   "outputs": [],
   "source": [
    "print(f'75+ Count : {len(premium_electrum_players_pack_75)}')\n",
    "print(f'82+ Count : {len(premium_electrum_players_pack_82)}')\n",
    "print(f'85+ Count : {len(premium_electrum_players_pack_85)}')"
   ]
  },
  {
   "cell_type": "code",
   "execution_count": null,
   "metadata": {},
   "outputs": [],
   "source": [
    "premium_electrum_players_pack_75_num = len(data[(data['Pack Type'] == 'premium electrum players pack') & (data['Top Rating'] >= 75)])\n",
    "premium_electrum_players_pack_82_num = len(data[(data['Pack Type'] == 'premium electrum players pack') & (data['Top Rating'] >= 82)])\n",
    "premium_electrum_players_pack_85_num = len(data[(data['Pack Type'] == 'premium electrum players pack') & (data['Top Rating'] >= 85)])\n",
    "\n",
    "print(premium_electrum_players_pack_75_num)\n",
    "print(premium_electrum_players_pack_82_num)\n",
    "print(premium_electrum_players_pack_85_num)"
   ]
  },
  {
   "cell_type": "code",
   "execution_count": null,
   "metadata": {},
   "outputs": [],
   "source": [
    "premium_electrum_players_pack_denom = len(data[(data['Pack Type'] == 'premium electrum players pack')])\n",
    "premium_electrum_players_pack_denom"
   ]
  },
  {
   "cell_type": "code",
   "execution_count": null,
   "metadata": {},
   "outputs": [],
   "source": [
    "premium_electrum_players_pack_75_percent = premium_electrum_players_pack_75_num/premium_electrum_players_pack_denom\n",
    "premium_electrum_players_pack_82_percent = premium_electrum_players_pack_82_num/premium_electrum_players_pack_denom\n",
    "premium_electrum_players_pack_85_percent = premium_electrum_players_pack_85_num/premium_electrum_players_pack_denom\n",
    "\n",
    "\n",
    "print(premium_electrum_players_pack_75_percent)\n",
    "print(premium_electrum_players_pack_82_percent)\n",
    "print(premium_electrum_players_pack_85_percent)"
   ]
  },
  {
   "cell_type": "code",
   "execution_count": null,
   "metadata": {},
   "outputs": [],
   "source": [
    "sns.boxplot(data[(data['Pack Type'] == 'premium electrum players pack')]['Top Rating']);"
   ]
  },
  {
   "cell_type": "markdown",
   "metadata": {},
   "source": [
    "## Hypothesis"
   ]
  },
  {
   "cell_type": "markdown",
   "metadata": {},
   "source": [
    "### 1) The probabilities of getting good players in FIFA 20 packs are lower than the pack probabilities posted by EA Sports simulation model.\n",
    "\n",
    "### 2) EA Sports is not telling the truth when it comes to the true probability of getting goods players in packs.\n",
    "\n",
    "### 3) Could the true probability of getting good players in packs be significant enough to compare this case to DraftKings average DFS contest results? Assuming the true probability is lower than what EA Sports tells us."
   ]
  },
  {
   "cell_type": "markdown",
   "metadata": {},
   "source": [
    "## Binomial Test"
   ]
  },
  {
   "cell_type": "code",
   "execution_count": null,
   "metadata": {},
   "outputs": [],
   "source": [
    "# Binomial test compares a sample proportion to a hypothesized proportion.\n",
    "\n",
    "# binom_test(x,n=None,p=0.5,alternative='two-sided')\n",
    "# x: # of successes\n",
    "# n: total number of trials\n",
    "# p: probability of success on each trial\n",
    "# alternative: alternative hypothesis. Default is 'two-sided' but can also specify 'greater' or 'less'\n",
    "\n",
    "\n",
    "# alternative = what I want to test for (aka pack weight is lower than advertised)"
   ]
  },
  {
   "cell_type": "markdown",
   "metadata": {},
   "source": [
    "### 1) Gold Pack - Binomial Test\n",
    "\n",
    "#### Fifa Odds:\n",
    "##### Gold 75+ : 100.00%\n",
    "##### Gold 82+ : 7.70%\n",
    "##### Gold 84+ : 3.40%\n",
    "\n",
    "\n",
    "##### My Odds:\n",
    "#### Gold 75+ : 100.00%\n",
    "#### Gold 82+ : 12.62%\n",
    "#### Gold 84+ : 0.97%\n",
    "\n",
    "\n",
    "#### My Count: n=168\n",
    "##### 75+ Count : \n",
    "##### 82+ Count : 13\n",
    "##### 84+ Count : 1"
   ]
  },
  {
   "cell_type": "code",
   "execution_count": null,
   "metadata": {},
   "outputs": [],
   "source": [
    "# 82+\n",
    "# h0: rating > 7.7%\n",
    "# ha: rating <= 7.7%\n",
    "# x = 20\n",
    "# n=168\n",
    "# p=7.7%\n",
    "\n",
    "binom_test(x=13, n=103, p=.077, alternative='less')"
   ]
  },
  {
   "cell_type": "code",
   "execution_count": null,
   "metadata": {},
   "outputs": [],
   "source": [
    "# Because the p value (.053) IS NOT less than .05, we fail to reject the null hypothesis.\n",
    "# We do not have sufficient evidence to say the 82+ pack rating is biased to =< 7.7%"
   ]
  },
  {
   "cell_type": "code",
   "execution_count": null,
   "metadata": {},
   "outputs": [],
   "source": [
    "# 84+ 3.4\n",
    "# h0: rating > 3.4%\n",
    "# ha: rating <= 3.4%\n",
    "# x = 4\n",
    "# n=168\n",
    "# p=3.4\n",
    "\n",
    "binom_test(x=1, n=103, p=.034, alternative='less')"
   ]
  },
  {
   "cell_type": "code",
   "execution_count": null,
   "metadata": {},
   "outputs": [],
   "source": [
    "# Because the p value (.971) IS NOT less than .05, we fail to reject the null hypothesis.\n",
    "# We do not have sufficient evidence to say the 84+ pack rating is biased to =< 3.40%"
   ]
  },
  {
   "cell_type": "markdown",
   "metadata": {},
   "source": [
    "### 2) Premium Gold Pack - Binomial Test\n",
    "\n",
    "#### Fifa Odds:\n",
    "##### Gold 75+ : 100.00%\n",
    "##### Gold 82+ : 19.00%\n",
    "##### Gold 84+ : 4.90%\n",
    "\n",
    "#### My Odds:\n",
    "##### Gold 75+ : 100.00%\n",
    "##### Gold 82+ : 21.31%\n",
    "##### Gold 84+ : 8.20%\n",
    "\n",
    "#### My Count: n=650\n",
    "##### Gold 75+ : 61\n",
    "##### Gold 82+ : 13\n",
    "##### Gold 84+ : 5"
   ]
  },
  {
   "cell_type": "code",
   "execution_count": null,
   "metadata": {},
   "outputs": [],
   "source": [
    "# 82+\n",
    "# h0: get 82+ rating > 21.31% of the time\n",
    "# ha: get 82+ rating <= 21.31% of the time\n",
    "# x = 121\n",
    "# n=632\n",
    "# p=19%\n",
    "\n",
    "binom_test(x=121, n=632, p=.19, alternative='less')"
   ]
  },
  {
   "cell_type": "code",
   "execution_count": null,
   "metadata": {},
   "outputs": [],
   "source": [
    "# Because the p value (.371) IS NOT less than .05, we fail to reject the null hypothesis.\n",
    "# We do not have sufficient evidence to say the 82+ pack rating is biased to =< 19%"
   ]
  },
  {
   "cell_type": "code",
   "execution_count": null,
   "metadata": {},
   "outputs": [],
   "source": [
    "# 84+\n",
    "# h0: get 84+ rating > 4.9% of the time\n",
    "# ha: get 84+ rating <= 4.9% of the time\n",
    "# x = 22\n",
    "# n=632\n",
    "# p=4.7%\n",
    "\n",
    "binom_test(x=22, n=632, p=.049, alternative='less')"
   ]
  },
  {
   "cell_type": "code",
   "execution_count": null,
   "metadata": {},
   "outputs": [],
   "source": [
    "# If I can find odds with p>= 5% It will work"
   ]
  },
  {
   "cell_type": "code",
   "execution_count": null,
   "metadata": {},
   "outputs": [],
   "source": [
    "# Because the p value (.158) IS NOT less than .05, we fail to reject the null hypothesis.\n",
    "# We do not have sufficient evidence to say the 84+ pack rating is biased to =< 4.7%"
   ]
  },
  {
   "cell_type": "markdown",
   "metadata": {},
   "source": [
    "### 3) Premium Gold Players Pack"
   ]
  },
  {
   "cell_type": "code",
   "execution_count": null,
   "metadata": {},
   "outputs": [],
   "source": [
    "# 82+\n",
    "# h0: get 82+ rating > 59% of the time\n",
    "# ha: get 82+ rating <= 59% of the time\n",
    "# x = 50\n",
    "# n=94\n",
    "# p=59%\n",
    "\n",
    "binom_test(x=66, n=126, p=.59, alternative='less')"
   ]
  },
  {
   "cell_type": "code",
   "execution_count": null,
   "metadata": {},
   "outputs": [],
   "source": [
    "# Because the p value (.893) IS NOT less than .05, we fail to reject the null hypothesis.\n",
    "# We do not have sufficient evidence to say the 82+ pack rating is biased to =< 59%"
   ]
  },
  {
   "cell_type": "code",
   "execution_count": null,
   "metadata": {},
   "outputs": [],
   "source": [
    "# 86+\n",
    "# h0: get 86+ rating > 4.7% of the time\n",
    "# ha: get 86+ rating <= 4.7% of the time\n",
    "# x = 5\n",
    "# n=61\n",
    "# p=4.7%\n",
    "\n",
    "binom_test(x=6, n=126, p=.036, alternative='less')"
   ]
  },
  {
   "cell_type": "code",
   "execution_count": null,
   "metadata": {},
   "outputs": [],
   "source": [
    "# Because the p value (.123) IS NOT less than .05, we fail to reject the null hypothesis.\n",
    "# We do not have sufficient evidence to say the 86+ pack rating is biased to =< 3.6%"
   ]
  },
  {
   "cell_type": "markdown",
   "metadata": {},
   "source": [
    "### 4) Jumbo Premium Gold Pack"
   ]
  },
  {
   "cell_type": "code",
   "execution_count": null,
   "metadata": {},
   "outputs": [],
   "source": [
    "# 82+\n",
    "# h0: get 82+ rating > 42% of the time\n",
    "# ha: get 82+ rating <= 42% of the time\n",
    "# x = 22\n",
    "# n=64\n",
    "# p=42%\n",
    "\n",
    "binom_test(x=33, n=93, p=.42, alternative='less')"
   ]
  },
  {
   "cell_type": "code",
   "execution_count": null,
   "metadata": {},
   "outputs": [],
   "source": [
    "# Because the p value (.914) IS NOT less than .05, we fail to reject the null hypothesis.\n",
    "# We do not have sufficient evidence to say the 82+ pack rating is biased to =< 42%"
   ]
  },
  {
   "cell_type": "code",
   "execution_count": null,
   "metadata": {},
   "outputs": [],
   "source": [
    "# 85+\n",
    "# h0: get 85+ rating > 4.6% of the time\n",
    "# ha: get 85+ rating <= 4.6% of the time\n",
    "# x = 4\n",
    "# n=64\n",
    "# p=4.6%\n",
    "\n",
    "binom_test(x=4, n=94, p=.046, alternative='less')"
   ]
  },
  {
   "cell_type": "code",
   "execution_count": null,
   "metadata": {},
   "outputs": [],
   "source": [
    "# Because the p value (.339) IS NOT less than .05, we fail to reject the null hypothesis.\n",
    "# We do not have sufficient evidence to say the 85+ pack rating is biased to =< 4.6%"
   ]
  },
  {
   "cell_type": "markdown",
   "metadata": {},
   "source": [
    "### 5) Prime Gold Players Pack"
   ]
  },
  {
   "cell_type": "code",
   "execution_count": null,
   "metadata": {},
   "outputs": [],
   "source": [
    "# 82+\n",
    "# h0: get 82+ rating > 80% of the time\n",
    "# ha: get 82+ rating <= 80% of the time\n",
    "# x = 36\n",
    "# n=48\n",
    "# p=80%\n",
    "\n",
    "binom_test(x=36, n=48, p=.8, alternative='less')"
   ]
  },
  {
   "cell_type": "code",
   "execution_count": null,
   "metadata": {},
   "outputs": [],
   "source": [
    "# Because the p value (.852) IS NOT less than .05, we fail to reject the null hypothesis.\n",
    "# We do not have sufficient evidence to say the 82+ pack rating is biased to =< 80%"
   ]
  },
  {
   "cell_type": "code",
   "execution_count": null,
   "metadata": {},
   "outputs": [],
   "source": [
    "# 87+\n",
    "# h0: get 87+ rating > 4.2% of the time\n",
    "# ha: get 87+ rating <= 4.2% of the time\n",
    "# x = 3\n",
    "# n=48\n",
    "# p=4.2%\n",
    "\n",
    "binom_test(x=3, n=48, p=.042, alternative='less')"
   ]
  },
  {
   "cell_type": "code",
   "execution_count": null,
   "metadata": {},
   "outputs": [],
   "source": [
    "# Because the p value (.327) IS NOT less than .05, we fail to reject the null hypothesis.\n",
    "# We do not have sufficient evidence to say the 87+ pack rating is biased to =< 4.2%"
   ]
  },
  {
   "cell_type": "markdown",
   "metadata": {},
   "source": [
    "### 6) Rare Gold Pack"
   ]
  },
  {
   "cell_type": "code",
   "execution_count": null,
   "metadata": {},
   "outputs": [],
   "source": [
    "# 82+\n",
    "# h0: get 82+ rating > 55% of the time\n",
    "# ha: get 82+ rating <= 55% of the time\n",
    "# x = 21\n",
    "# n=43\n",
    "# p=55%\n",
    "\n",
    "binom_test(x=21, n=43, p=.55, alternative='less')"
   ]
  },
  {
   "cell_type": "code",
   "execution_count": null,
   "metadata": {},
   "outputs": [],
   "source": [
    "# Because the p value (.832) IS NOT less than .05, we fail to reject the null hypothesis.\n",
    "# We do not have sufficient evidence to say the 82+ pack rating is biased to =< 55%"
   ]
  },
  {
   "cell_type": "code",
   "execution_count": null,
   "metadata": {},
   "outputs": [],
   "source": [
    "# 86+\n",
    "# h0: get 86+ rating > 4.3% of the time\n",
    "# ha: get 86+ rating <= 4.3% of the time\n",
    "# x = 5\n",
    "# n=43\n",
    "# p=4.3%\n",
    "\n",
    "binom_test(x=5, n=43, p=.043, alternative='less')"
   ]
  },
  {
   "cell_type": "code",
   "execution_count": null,
   "metadata": {},
   "outputs": [],
   "source": [
    "# Because the p value (.036) IS less than .05, we reject the null hypothesis.\n",
    "# We have sufficient evidence to say the 87+ pack rating is biased to =< 4.2%"
   ]
  },
  {
   "cell_type": "markdown",
   "metadata": {},
   "source": [
    "### 7) Mega Pack"
   ]
  },
  {
   "cell_type": "code",
   "execution_count": null,
   "metadata": {},
   "outputs": [],
   "source": [
    "# 82+\n",
    "# h0: get 82+ rating > 79% of the time\n",
    "# ha: get 82+ rating <= 79% of the time\n",
    "# x = 81\n",
    "# n=95\n",
    "# p=79%\n",
    "\n",
    "binom_test(x=100, n=118, p=.79, alternative='less')"
   ]
  },
  {
   "cell_type": "code",
   "execution_count": null,
   "metadata": {},
   "outputs": [],
   "source": [
    "# Because the p value (.080) IS NOT less than .05, we fail to reject the null hypothesis.\n",
    "# We do not have sufficient evidence to say the 82+ pack rating is biased to =< 79%"
   ]
  },
  {
   "cell_type": "code",
   "execution_count": null,
   "metadata": {},
   "outputs": [],
   "source": [
    "# 87+\n",
    "# h0: get 87+ rating > 4.5% of the time\n",
    "# ha: get 87+ rating <= 4.5% of the time\n",
    "# x = 4\n",
    "# n=95\n",
    "# p=4.5%\n",
    "\n",
    "binom_test(x=4, n=118, p=.045, alternative='less')"
   ]
  },
  {
   "cell_type": "code",
   "execution_count": null,
   "metadata": {},
   "outputs": [],
   "source": [
    "# Because the p value (.623) IS NOT less than .05, we fail to reject the null hypothesis.\n",
    "# We do not have sufficient evidence to say the 82+ pack rating is biased to =< 4.5%"
   ]
  },
  {
   "cell_type": "markdown",
   "metadata": {},
   "source": [
    "### 8) Rare Players Pack"
   ]
  },
  {
   "cell_type": "code",
   "execution_count": null,
   "metadata": {},
   "outputs": [],
   "source": [
    "# 82+\n",
    "# h0: get 82+ rating > 95% of the time\n",
    "# ha: get 82+ rating <= 95% of the time\n",
    "# x = 100\n",
    "# n=103\n",
    "# p=95%\n",
    "\n",
    "binom_test(x=147, n=152, p=.95, alternative='less')"
   ]
  },
  {
   "cell_type": "code",
   "execution_count": null,
   "metadata": {},
   "outputs": [],
   "source": [
    "# Because the p value (.852) IS NOT less than .05, we fail to reject the null hypothesis.\n",
    "# We do not have sufficient evidence to say the 82+ pack rating is biased to =< 80%"
   ]
  },
  {
   "cell_type": "code",
   "execution_count": null,
   "metadata": {},
   "outputs": [],
   "source": [
    "# 88+\n",
    "# h0: get 88+ rating > 5% of the time\n",
    "# ha: get 88+ rating <= 5% of the time\n",
    "# x = 11\n",
    "# n=103\n",
    "# p=5%\n",
    "\n",
    "binom_test(x=14, n=152, p=.05, alternative='less')"
   ]
  },
  {
   "cell_type": "code",
   "execution_count": null,
   "metadata": {},
   "outputs": [],
   "source": [
    "# Because the p value (.852) IS NOT less than .05, we fail to reject the null hypothesis.\n",
    "# We do not have sufficient evidence to say the 82+ pack rating is biased to =< 80%"
   ]
  },
  {
   "cell_type": "code",
   "execution_count": null,
   "metadata": {},
   "outputs": [],
   "source": [
    "### 9)Premium Electrum Players Pack"
   ]
  },
  {
   "cell_type": "code",
   "execution_count": null,
   "metadata": {},
   "outputs": [],
   "source": [
    "# 82+\n",
    "# h0: get 82+ rating > 41% of the time\n",
    "# ha: get 82+ rating <= 41% of the time\n",
    "# x = 18\n",
    "# n=45\n",
    "# p=41%\n",
    "\n",
    "binom_test(x=18, n=45, p=.41, alternative='less')"
   ]
  },
  {
   "cell_type": "code",
   "execution_count": null,
   "metadata": {},
   "outputs": [],
   "source": [
    "# Because the p value (.852) IS NOT less than .05, we fail to reject the null hypothesis.\n",
    "# We do not have sufficient evidence to say the 82+ pack rating is biased to =< 80%"
   ]
  },
  {
   "cell_type": "code",
   "execution_count": null,
   "metadata": {},
   "outputs": [],
   "source": [
    "# 85+\n",
    "# h0: get 85+ rating > 4.3% of the time\n",
    "# ha: get 85+ rating <= 4.3% of the time\n",
    "# x = 5\n",
    "# n=45\n",
    "# p=4.3%\n",
    "\n",
    "binom_test(x=5, n=45, p=.043, alternative='less')"
   ]
  },
  {
   "cell_type": "code",
   "execution_count": null,
   "metadata": {},
   "outputs": [],
   "source": [
    "# Because the p value (.852) IS NOT less than .05, we fail to reject the null hypothesis.\n",
    "# We do not have sufficient evidence to say the 82+ pack rating is biased to =< 80%"
   ]
  },
  {
   "cell_type": "code",
   "execution_count": null,
   "metadata": {},
   "outputs": [],
   "source": [
    "# https://www.statology.org/binomial-test-python/\n",
    "\n",
    "# Jeff\n",
    "# If your p-value is greater than 0.05, that means you fail to reject the null hypothesis and conclude that the actual probability is greater than or equal to what FIFA said\n",
    "# If your p-value is less than 0.05, you reject the null hypothesis and conclude that the actual probability is less than what FIFA said\n",
    "\n",
    "# Me\n",
    "# Because the p value is greater than 0.05, we fail to reject the null hypothesis and conclude that the actual pack probability is greater than or equal to Fifa's stated pack probability.\n",
    "# Because the p value is less than 0.05, we reject the null hypothesis and conclude that the actual pack probability is less than Fifa's stated pack probability."
   ]
  },
  {
   "cell_type": "markdown",
   "metadata": {},
   "source": [
    "## Do pack by WO, board"
   ]
  }
 ],
 "metadata": {
  "kernelspec": {
   "display_name": "Python 3",
   "language": "python",
   "name": "python3"
  },
  "language_info": {
   "codemirror_mode": {
    "name": "ipython",
    "version": 3
   },
   "file_extension": ".py",
   "mimetype": "text/x-python",
   "name": "python",
   "nbconvert_exporter": "python",
   "pygments_lexer": "ipython3",
   "version": "3.6.9"
  }
 },
 "nbformat": 4,
 "nbformat_minor": 4
}
